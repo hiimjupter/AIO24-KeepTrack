{
  "nbformat": 4,
  "nbformat_minor": 0,
  "metadata": {
    "colab": {
      "provenance": [],
      "authorship_tag": "ABX9TyPsQZE+SpnjqJ7JA7lmPSWO",
      "include_colab_link": true
    },
    "kernelspec": {
      "name": "python3",
      "display_name": "Python 3"
    },
    "language_info": {
      "name": "python"
    }
  },
  "cells": [
    {
      "cell_type": "markdown",
      "metadata": {
        "id": "view-in-github",
        "colab_type": "text"
      },
      "source": [
        "<a href=\"https://colab.research.google.com/github/hiimjupter/AIO24-KeepTrack/blob/feature%2Fexercise-M02/%5BAIO24%5D_M2W1.ipynb\" target=\"_parent\"><img src=\"https://colab.research.google.com/assets/colab-badge.svg\" alt=\"Open In Colab\"/></a>"
      ]
    },
    {
      "cell_type": "markdown",
      "source": [
        "# BT2: Xử lý ảnh"
      ],
      "metadata": {
        "id": "_Z32_4jBwi2B"
      }
    },
    {
      "cell_type": "code",
      "execution_count": null,
      "metadata": {
        "colab": {
          "base_uri": "https://localhost:8080/"
        },
        "id": "NF_YOn3lgDtd",
        "outputId": "bfc7ebb9-4ef7-435a-caf3-b4e985448d57"
      },
      "outputs": [
        {
          "output_type": "stream",
          "name": "stdout",
          "text": [
            "Downloading...\n",
            "From: https://drive.google.com/uc?id=1i9dqan21DjQoG5Q_VEvm0LrVwAlXD0vB\n",
            "To: /content/dog.jpeg\n",
            "\r  0% 0.00/33.7k [00:00<?, ?B/s]\r100% 33.7k/33.7k [00:00<00:00, 47.8MB/s]\n"
          ]
        }
      ],
      "source": [
        "# Download image\n",
        "!gdown 1i9dqan21DjQoG5Q_VEvm0LrVwAlXD0vB"
      ]
    },
    {
      "cell_type": "code",
      "source": [
        "import matplotlib.image as mpimg\n",
        "import numpy as np\n",
        "\n",
        "img = mpimg.imread('/content/dog.jpeg')\n",
        "\n",
        "img = np.array(img)\n",
        "img.shape"
      ],
      "metadata": {
        "colab": {
          "base_uri": "https://localhost:8080/"
        },
        "id": "6ga--6jvgqAd",
        "outputId": "028be184-df53-4cc6-96a6-ab251cb5e941"
      },
      "execution_count": null,
      "outputs": [
        {
          "output_type": "execute_result",
          "data": {
            "text/plain": [
              "(534, 800, 3)"
            ]
          },
          "metadata": {},
          "execution_count": 55
        }
      ]
    },
    {
      "cell_type": "code",
      "source": [
        "# Lightness Method\n",
        "gray_img_01 = (np.max(img, axis=2) + np.min(img, axis=2)) / 2\n",
        "\n",
        "print(gray_img_01.shape)\n",
        "print(gray_img_01[0,0])"
      ],
      "metadata": {
        "colab": {
          "base_uri": "https://localhost:8080/"
        },
        "id": "6xmEc4HQt42J",
        "outputId": "fdcebc0b-d24d-41b7-d4e0-118fdd48fd47"
      },
      "execution_count": null,
      "outputs": [
        {
          "output_type": "stream",
          "name": "stdout",
          "text": [
            "(534, 800)\n",
            "102.5\n"
          ]
        }
      ]
    },
    {
      "cell_type": "code",
      "source": [
        "# Average Method\n",
        "gray_img_02 = np.mean(img, axis=2)\n",
        "\n",
        "print(gray_img_02.shape)\n",
        "print(gray_img_02[0,0])"
      ],
      "metadata": {
        "colab": {
          "base_uri": "https://localhost:8080/"
        },
        "id": "7wqwC3xDw1wG",
        "outputId": "08391476-8818-4172-ca99-b5f133ad49fa"
      },
      "execution_count": null,
      "outputs": [
        {
          "output_type": "stream",
          "name": "stdout",
          "text": [
            "(534, 800)\n",
            "107.66666666666667\n"
          ]
        }
      ]
    },
    {
      "cell_type": "code",
      "source": [
        "# Luminosity Method\n",
        "gray_img_03 = (0.21*img[:,:,0]) + (0.72*img[:,:,1]) + (0.07*img[:,:,2])\n",
        "\n",
        "print(gray_img_03.shape)\n",
        "print(gray_img_03[0,0])"
      ],
      "metadata": {
        "colab": {
          "base_uri": "https://localhost:8080/"
        },
        "id": "ubxf6KXVxLwS",
        "outputId": "849727df-18d9-42a3-cc7f-e8bd40062ea3"
      },
      "execution_count": null,
      "outputs": [
        {
          "output_type": "stream",
          "name": "stdout",
          "text": [
            "(534, 800)\n",
            "126.22999999999999\n"
          ]
        }
      ]
    },
    {
      "cell_type": "markdown",
      "source": [
        "# BT3: Phân tích dữ liệu dạng bảng (Time-series)"
      ],
      "metadata": {
        "id": "55XYtdvWyb3b"
      }
    },
    {
      "cell_type": "code",
      "source": [
        "!gdown 1iA0WmVfW88HyJvTBSQDI5vesf-pgKabq"
      ],
      "metadata": {
        "colab": {
          "base_uri": "https://localhost:8080/"
        },
        "id": "VkacczZpyfev",
        "outputId": "69ecbe2c-18b3-4980-bd53-4ede849dc7f5"
      },
      "execution_count": null,
      "outputs": [
        {
          "output_type": "stream",
          "name": "stdout",
          "text": [
            "Downloading...\n",
            "From: https://drive.google.com/uc?id=1iA0WmVfW88HyJvTBSQDI5vesf-pgKabq\n",
            "To: /content/advertising.csv\n",
            "\r  0% 0.00/4.06k [00:00<?, ?B/s]\r100% 4.06k/4.06k [00:00<00:00, 10.1MB/s]\n"
          ]
        }
      ]
    },
    {
      "cell_type": "code",
      "source": [
        "import pandas as pd\n",
        "\n",
        "df = pd.read_csv(\"/content/advertising.csv\")\n",
        "\n",
        "data = df.to_numpy()"
      ],
      "metadata": {
        "id": "DmCDd70xymox"
      },
      "execution_count": null,
      "outputs": []
    },
    {
      "cell_type": "code",
      "source": [
        "data.shape"
      ],
      "metadata": {
        "colab": {
          "base_uri": "https://localhost:8080/"
        },
        "id": "5URCb2mQyxU_",
        "outputId": "9b173f9b-5f74-4150-9506-f89566ca1596"
      },
      "execution_count": null,
      "outputs": [
        {
          "output_type": "execute_result",
          "data": {
            "text/plain": [
              "(200, 4)"
            ]
          },
          "metadata": {},
          "execution_count": 63
        }
      ]
    },
    {
      "cell_type": "code",
      "source": [
        "# Cột sales là cột thứ 4, index là 3\n",
        "max_value = np.max(data[:, 3])\n",
        "first_occur = np.where(data[:, 3] == max_value)[0][0]\n",
        "print(f\"Max: {max_value} - Index: {first_occur}\")"
      ],
      "metadata": {
        "colab": {
          "base_uri": "https://localhost:8080/"
        },
        "id": "plERVl0ly0ox",
        "outputId": "b5c24e78-a992-48c5-f01c-67ae6947faf1"
      },
      "execution_count": null,
      "outputs": [
        {
          "output_type": "stream",
          "name": "stdout",
          "text": [
            "Max: 27.0 - Index: 175\n"
          ]
        }
      ]
    },
    {
      "cell_type": "code",
      "source": [
        "# Cột tv là cột thứ 1, index là 0\n",
        "mean_value_tv = np.mean(data, axis = 0)[0]\n",
        "print(f\"Mean: {mean_value_tv}\")\n",
        "\n",
        "# hoặc\n",
        "mean_value_tv = np.mean(data[:, 0])\n",
        "print(f\"Mean: {mean_value_tv}\")"
      ],
      "metadata": {
        "colab": {
          "base_uri": "https://localhost:8080/"
        },
        "id": "viVhhn0t2w4w",
        "outputId": "38b60210-1c67-4b43-acfb-c6deb252cec9"
      },
      "execution_count": null,
      "outputs": [
        {
          "output_type": "stream",
          "name": "stdout",
          "text": [
            "Mean: 147.0425\n",
            "Mean: 147.0425\n"
          ]
        }
      ]
    },
    {
      "cell_type": "code",
      "source": [
        "# Cột sales là cột thứ 4, index là 3\n",
        "num_sales_greater_than_20 = np.where(data[:, 3]>=20)[0].shape[0]\n",
        "print(num_sales_greater_than_20)"
      ],
      "metadata": {
        "colab": {
          "base_uri": "https://localhost:8080/"
        },
        "id": "SSzbxib53ViI",
        "outputId": "67588250-33a5-4d30-dd71-851d98a9be97"
      },
      "execution_count": null,
      "outputs": [
        {
          "output_type": "stream",
          "name": "stdout",
          "text": [
            "40\n"
          ]
        }
      ]
    },
    {
      "cell_type": "code",
      "source": [
        "# Cột radio là cột thứ 2, index là 1\n",
        "radio = data[:, 1]\n",
        "\n",
        "sales = data[:, 3]\n",
        "\n",
        "good_radio = radio[sales>=15]\n",
        "print(np.mean(good_radio))"
      ],
      "metadata": {
        "colab": {
          "base_uri": "https://localhost:8080/"
        },
        "id": "kZ_pm9VD4WEw",
        "outputId": "bc350694-73e3-4945-84b8-6f3fdb709879"
      },
      "execution_count": null,
      "outputs": [
        {
          "output_type": "stream",
          "name": "stdout",
          "text": [
            "26.22293577981651\n"
          ]
        }
      ]
    },
    {
      "cell_type": "code",
      "source": [
        "# Cột newspaper là cột thứ 3, index là 2\n",
        "newspaper = data[:, 2]\n",
        "mean_newspaper = np.mean(newspaper)\n",
        "print(mean_newspaper)\n",
        "\n",
        "sales = data[:, 3]\n",
        "\n",
        "good_sales = sales[newspaper>=mean_newspaper]\n",
        "print(np.sum(good_sales))"
      ],
      "metadata": {
        "colab": {
          "base_uri": "https://localhost:8080/"
        },
        "id": "kQGZ1cYj5ysc",
        "outputId": "4d208cbb-f8da-4a3d-dbfd-bd9eb128fb9c"
      },
      "execution_count": null,
      "outputs": [
        {
          "output_type": "stream",
          "name": "stdout",
          "text": [
            "30.553999999999995\n",
            "1405.1\n"
          ]
        }
      ]
    },
    {
      "cell_type": "code",
      "source": [
        "# Mean of Sales\n",
        "sales = data[:, 3]\n",
        "\n",
        "A = np.mean(sales)\n",
        "print(A)\n",
        "\n",
        "# Condition to create\n",
        "scores = np.array([\"Good\" if x > A else \"Bad\" if x < A else \"Average\" for x in sales])\n",
        "print(np.where(scores==\"Average\"))"
      ],
      "metadata": {
        "colab": {
          "base_uri": "https://localhost:8080/"
        },
        "id": "HihxGAQd6WQa",
        "outputId": "8969ac96-2d5c-410f-b560-d51c158af068"
      },
      "execution_count": null,
      "outputs": [
        {
          "output_type": "stream",
          "name": "stdout",
          "text": [
            "15.130500000000001\n",
            "(array([], dtype=int64),)\n"
          ]
        }
      ]
    },
    {
      "cell_type": "code",
      "source": [
        "# Mean of Sales\n",
        "sales = data[:, 3]\n",
        "\n",
        "mean_sales = np.mean(sales)\n",
        "print(A)\n",
        "\n",
        "def find_nearest(array, value):\n",
        "    array = np.asarray(array)\n",
        "    idx = (np.abs(array - value)).argmin()\n",
        "    return array[idx]\n",
        "\n",
        "A = find_nearest(sales, mean_sales)\n",
        "\n",
        "# Condition to create scores\n",
        "scores = np.array([\"Good\" if x > A else \"Bad\" if x < A else \"Average\" for x in sales])\n",
        "print(np.where(scores==\"Average\"))"
      ],
      "metadata": {
        "colab": {
          "base_uri": "https://localhost:8080/"
        },
        "id": "W4suGbFK8vM9",
        "outputId": "f93a0aea-0395-49b0-f367-89b78dd10009"
      },
      "execution_count": null,
      "outputs": [
        {
          "output_type": "stream",
          "name": "stdout",
          "text": [
            "15.130500000000001\n",
            "(array([123]),)\n"
          ]
        }
      ]
    }
  ]
}
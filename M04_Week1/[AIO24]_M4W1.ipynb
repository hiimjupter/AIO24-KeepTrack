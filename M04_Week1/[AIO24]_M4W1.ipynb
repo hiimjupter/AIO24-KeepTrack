{
  "nbformat": 4,
  "nbformat_minor": 0,
  "metadata": {
    "colab": {
      "provenance": [],
      "authorship_tag": "ABX9TyP9AZeaa7XEDKqvyjxfglnP",
      "include_colab_link": true
    },
    "kernelspec": {
      "name": "python3",
      "display_name": "Python 3"
    },
    "language_info": {
      "name": "python"
    }
  },
  "cells": [
    {
      "cell_type": "markdown",
      "metadata": {
        "id": "view-in-github",
        "colab_type": "text"
      },
      "source": [
        "<a href=\"https://colab.research.google.com/github/hiimjupter/AIO24-KeepTrack/blob/feature%2Fexercise-M04/%5BAIO24%5D_M4W1.ipynb\" target=\"_parent\"><img src=\"https://colab.research.google.com/assets/colab-badge.svg\" alt=\"Open In Colab\"/></a>"
      ]
    },
    {
      "cell_type": "code",
      "execution_count": 280,
      "metadata": {
        "colab": {
          "base_uri": "https://localhost:8080/"
        },
        "id": "5GR8VWaBv4--",
        "outputId": "04e32081-4039-4650-830a-2901b0584447"
      },
      "outputs": [
        {
          "output_type": "stream",
          "name": "stdout",
          "text": [
            "Drive already mounted at /content/drive; to attempt to forcibly remount, call drive.mount(\"/content/drive\", force_remount=True).\n"
          ]
        }
      ],
      "source": [
        "from google.colab import drive\n",
        "drive.mount('/content/drive')"
      ]
    },
    {
      "cell_type": "code",
      "source": [
        "import pandas as pd\n",
        "import numpy as np\n",
        "import matplotlib.pyplot as plt\n",
        "import seaborn as sns\n",
        "import random"
      ],
      "metadata": {
        "id": "q5g5N7BDx_jg"
      },
      "execution_count": 281,
      "outputs": []
    },
    {
      "cell_type": "code",
      "source": [
        "DATASET_PATH = '/content/drive/MyDrive/AIO24/M4W1/Dataset/advertising.csv'\n",
        "df = pd.read_csv(DATASET_PATH)"
      ],
      "metadata": {
        "id": "3is_2xHBx2MD"
      },
      "execution_count": 282,
      "outputs": []
    },
    {
      "cell_type": "code",
      "source": [
        "df.info()"
      ],
      "metadata": {
        "colab": {
          "base_uri": "https://localhost:8080/"
        },
        "id": "cAB21FI8yElp",
        "outputId": "757e248f-502e-4b74-ecd9-677935db3782"
      },
      "execution_count": 283,
      "outputs": [
        {
          "output_type": "stream",
          "name": "stdout",
          "text": [
            "<class 'pandas.core.frame.DataFrame'>\n",
            "RangeIndex: 200 entries, 0 to 199\n",
            "Data columns (total 4 columns):\n",
            " #   Column     Non-Null Count  Dtype  \n",
            "---  ------     --------------  -----  \n",
            " 0   TV         200 non-null    float64\n",
            " 1   Radio      200 non-null    float64\n",
            " 2   Newspaper  200 non-null    float64\n",
            " 3   Sales      200 non-null    float64\n",
            "dtypes: float64(4)\n",
            "memory usage: 6.4 KB\n"
          ]
        }
      ]
    },
    {
      "cell_type": "code",
      "source": [
        "print(f\"Total missing values: {df.isna().sum().sum()}\")\n",
        "print(f\"Total duplicated rows: {df.duplicated().sum()}\")"
      ],
      "metadata": {
        "colab": {
          "base_uri": "https://localhost:8080/"
        },
        "id": "dc1xU8GaydaM",
        "outputId": "909e117d-fe29-4312-fd03-96505d5e43ac"
      },
      "execution_count": 284,
      "outputs": [
        {
          "output_type": "stream",
          "name": "stdout",
          "text": [
            "Total missing values: 0\n",
            "Total duplicated rows: 0\n"
          ]
        }
      ]
    },
    {
      "cell_type": "code",
      "source": [
        "def get_column(data, index):\n",
        "  return [row[index] for row in data]\n",
        "\n",
        "def prepare_data(dataset):\n",
        "  data = np.genfromtxt(dataset, delimiter =',', skip_header=1).tolist()\n",
        "  N = len(data)\n",
        "\n",
        "  df_tv = get_column(data, 0)\n",
        "  df_radio = get_column(data, 1)\n",
        "  df_newspaper = get_column(data, 2)\n",
        "  df_sales = get_column(data, 3)\n",
        "\n",
        "  X = [[1, x1, x2, x3] for x1, x2, x3 in zip(df_tv, df_radio, df_newspaper)]\n",
        "  y = df_sales\n",
        "\n",
        "  return X, y\n",
        "\n",
        "X, y = prepare_data(DATASET_PATH)"
      ],
      "metadata": {
        "id": "Gcpay-xPy9RC"
      },
      "execution_count": 285,
      "outputs": []
    },
    {
      "cell_type": "code",
      "source": [
        "def initialize_params():\n",
        "  bias = 0\n",
        "  w1 = random.gauss(mu=0, sigma=1)\n",
        "  w2 = random.gauss(mu=0, sigma=1)\n",
        "  w3 = random.gauss(mu=0, sigma=1)\n",
        "  return [0, -0.01268850433497871, 0.004752496982185252, 0.0073796171538643845]"
      ],
      "metadata": {
        "id": "macQegr-5Fjw"
      },
      "execution_count": 286,
      "outputs": []
    },
    {
      "cell_type": "code",
      "source": [
        "def predict(X_features, weights):\n",
        "  N = len(weights)\n",
        "  y = 0\n",
        "  for i in range(N):\n",
        "    y += weights[i] * X_features[i]\n",
        "  return y"
      ],
      "metadata": {
        "id": "Bsus9Xmh5aOJ"
      },
      "execution_count": 287,
      "outputs": []
    },
    {
      "cell_type": "code",
      "source": [
        "def compute_loss_mse(y_hat, y):\n",
        "  loss = (y_hat - y) ** 2\n",
        "  return loss"
      ],
      "metadata": {
        "id": "20-bJ6Zo58E1"
      },
      "execution_count": 288,
      "outputs": []
    },
    {
      "cell_type": "code",
      "source": [
        "def compute_loss_mae(y_hat, y):\n",
        "  loss = abs(y_hat - y)\n",
        "  return loss"
      ],
      "metadata": {
        "id": "AsZf-cLSANNB"
      },
      "execution_count": 289,
      "outputs": []
    },
    {
      "cell_type": "code",
      "source": [
        "def compute_gradient_wi(X_features, y_hat, y):\n",
        "  dl_dweights = []\n",
        "  for x in X_features:\n",
        "    gradient_wi = 2 * (y_hat - y) * x\n",
        "    dl_dweights.append(gradient_wi)\n",
        "  return dl_dweights\n",
        "\n",
        "def compute_gradient_b(y_hat, y):\n",
        "  gradient_b = 2 * (y_hat - y)\n",
        "  return gradient_b"
      ],
      "metadata": {
        "id": "IxP61g7p6WBf"
      },
      "execution_count": 290,
      "outputs": []
    },
    {
      "cell_type": "code",
      "source": [
        "def update_weight_wi(weights, dl_dweights, learning_rate):\n",
        "  new_weights = []\n",
        "  for wi, gradient_wi in zip(weights, dl_dweights):\n",
        "    new_wi = wi - learning_rate * gradient_wi\n",
        "    new_weights.append(new_wi)\n",
        "  return new_weights\n",
        "\n",
        "def update_weight_b(b, gradient_b, learning_rate):\n",
        "  new_b = b - learning_rate * gradient_b\n",
        "  return new_b"
      ],
      "metadata": {
        "id": "s7DcDY7D7Lfs"
      },
      "execution_count": 291,
      "outputs": []
    },
    {
      "cell_type": "code",
      "source": [
        "def implement_linear_regression_with_mse(X_data, y_data, learning_rate=1e-5, epochs=50):\n",
        "  losses = []\n",
        "\n",
        "  w1, w2, w3, b = initialize_params()\n",
        "\n",
        "  N = len(y_data)\n",
        "\n",
        "  for epoch in range(epochs):\n",
        "    for i in range(N):\n",
        "      x1 = X_data[0][i]\n",
        "      x2 = X_data[1][i]\n",
        "      x3 = X_data[2][i]\n",
        "\n",
        "      y = y_data[i]\n",
        "\n",
        "      y_hat = predict(x1, x2, x3, w1, w2, w3, b)\n",
        "\n",
        "      loss = compute_loss_mse(y_hat, y)\n",
        "\n",
        "      gradient_w1 = compute_gradient_wi(x1, y_hat, y)\n",
        "      gradient_w2 = compute_gradient_wi(x2, y_hat, y)\n",
        "      gradient_w3 = compute_gradient_wi(x3, y_hat, y)\n",
        "      gradient_b = compute_gradient_b(y_hat, y)\n",
        "\n",
        "      w1 = update_weight_wi(w1, gradient_w1, learning_rate)\n",
        "      w2 = update_weight_wi(w2, gradient_w2, learning_rate)\n",
        "      w3 = update_weight_wi(w3, gradient_w3, learning_rate)\n",
        "      b = update_weight_b(b, gradient_b, learning_rate)\n",
        "\n",
        "      losses.append(loss)\n",
        "\n",
        "  return (w1, w2, w3, b, losses)"
      ],
      "metadata": {
        "id": "0BebSNiI8jSP"
      },
      "execution_count": 292,
      "outputs": []
    },
    {
      "cell_type": "code",
      "source": [
        "def implement_linear_regression_with_mae(X_data, y_data, learning_rate=1e-5, epochs=50):\n",
        "  losses = []\n",
        "\n",
        "  w1, w2, w3, b = initialize_params()\n",
        "\n",
        "  N = len(y_data)\n",
        "\n",
        "  for epoch in range(epochs):\n",
        "    for i in range(N):\n",
        "      x1 = X_data[0][i]\n",
        "      x2 = X_data[1][i]\n",
        "      x3 = X_data[2][i]\n",
        "\n",
        "      y = y_data[i]\n",
        "\n",
        "      y_hat = predict(x1, x2, x3, w1, w2, w3, b)\n",
        "\n",
        "      loss = compute_loss_mae(y_hat, y)\n",
        "\n",
        "      gradient_w1 = compute_gradient_wi(x1, y_hat, y)\n",
        "      gradient_w2 = compute_gradient_wi(x2, y_hat, y)\n",
        "      gradient_w3 = compute_gradient_wi(x3, y_hat, y)\n",
        "      gradient_b = compute_gradient_b(y_hat, y)\n",
        "\n",
        "      w1 = update_weight_wi(w1, gradient_w1, learning_rate)\n",
        "      w2 = update_weight_wi(w2, gradient_w2, learning_rate)\n",
        "      w3 = update_weight_wi(w3, gradient_w3, learning_rate)\n",
        "      b = update_weight_b(b, gradient_b, learning_rate)\n",
        "\n",
        "      losses.append(loss)\n",
        "\n",
        "  return (w1, w2, w3, b, losses)"
      ],
      "metadata": {
        "id": "q4ZkaZN3AmgS"
      },
      "execution_count": 293,
      "outputs": []
    },
    {
      "cell_type": "code",
      "source": [
        "def implement_linear_regression_nsamples_with_mse(X_data, y_data, learning_rate=1e-5, epochs=1000):\n",
        "  losses = []\n",
        "\n",
        "  w1, w2, w3, b = initialize_params()\n",
        "\n",
        "  N = len(y_data)\n",
        "\n",
        "  for epoch in range(epochs):\n",
        "        loss_total = 0.0\n",
        "        dw1_total = 0.0\n",
        "        dw2_total = 0.0\n",
        "        dw3_total = 0.0\n",
        "        db_total = 0.0\n",
        "\n",
        "        for i in range(N):\n",
        "            x1 = X_data[0][i]\n",
        "            x2 = X_data[1][i]\n",
        "            x3 = X_data[2][i]\n",
        "\n",
        "            y = y_data[i]\n",
        "\n",
        "            y_hat = predict(x1, x2, x3, w1, w2, w3, b)\n",
        "\n",
        "            loss = compute_loss_mse(y_hat, y)\n",
        "\n",
        "            loss_total += loss\n",
        "\n",
        "            gradient_w1 = compute_gradient_wi(x1, y_hat, y)\n",
        "            gradient_w2 = compute_gradient_wi(x2, y_hat, y)\n",
        "            gradient_w3 = compute_gradient_wi(x3, y_hat, y)\n",
        "            gradient_b = compute_gradient_b(y_hat, y)\n",
        "\n",
        "            dw1_total += gradient_w1\n",
        "            dw2_total += gradient_w2\n",
        "            dw3_total += gradient_w3\n",
        "            db_total += gradient_b\n",
        "\n",
        "        dw1_avg = dw1_total / N\n",
        "        dw2_avg = dw2_total / N\n",
        "        dw3_avg = dw3_total / N\n",
        "        db_avg = db_total / N\n",
        "\n",
        "        w1 = update_weight_wi(w1, dw1_avg, learning_rate)\n",
        "        w2 = update_weight_wi(w2, dw2_avg, learning_rate)\n",
        "        w3 = update_weight_wi(w3, dw3_avg, learning_rate)\n",
        "        b = update_weight_b(b, db_avg, learning_rate)\n",
        "\n",
        "        loss_avg = loss_total / N\n",
        "        losses.append(loss_avg)\n",
        "\n",
        "        if (epoch+1) % 100 == 0 or epoch == 0:\n",
        "            print(f\"Epoch {epoch+1}/{epochs}, Loss: {loss_avg}\")\n",
        "\n",
        "  return (w1, w2, w3, b, losses)"
      ],
      "metadata": {
        "id": "60bzjJJcBBY6"
      },
      "execution_count": 294,
      "outputs": []
    },
    {
      "cell_type": "code",
      "source": [
        "def implement_linear_regression_nsamples_with_mae(X_data, y_data, learning_rate=1e-5, epochs=1000):\n",
        "  losses = []\n",
        "\n",
        "  w1, w2, w3, b = initialize_params()\n",
        "\n",
        "  N = len(y_data)\n",
        "\n",
        "  for epoch in range(epochs):\n",
        "        loss_total = 0.0\n",
        "        dw1_total = 0.0\n",
        "        dw2_total = 0.0\n",
        "        dw3_total = 0.0\n",
        "        db_total = 0.0\n",
        "\n",
        "        for i in range(N):\n",
        "            x1 = X_data[0][i]\n",
        "            x2 = X_data[1][i]\n",
        "            x3 = X_data[2][i]\n",
        "\n",
        "            y = y_data[i]\n",
        "\n",
        "            y_hat = predict(x1, x2, x3, w1, w2, w3, b)\n",
        "\n",
        "            loss = compute_loss_mae(y_hat, y)\n",
        "\n",
        "            loss_total += loss\n",
        "\n",
        "            gradient_w1 = compute_gradient_wi(x1, y_hat, y)\n",
        "            gradient_w2 = compute_gradient_wi(x2, y_hat, y)\n",
        "            gradient_w3 = compute_gradient_wi(x3, y_hat, y)\n",
        "            gradient_b = compute_gradient_b(y_hat, y)\n",
        "\n",
        "            dw1_total += gradient_w1\n",
        "            dw2_total += gradient_w2\n",
        "            dw3_total += gradient_w3\n",
        "            db_total += gradient_b\n",
        "\n",
        "        dw1_avg = dw1_total / N\n",
        "        dw2_avg = dw2_total / N\n",
        "        dw3_avg = dw3_total / N\n",
        "        db_avg = db_total / N\n",
        "\n",
        "        w1 = update_weight_wi(w1, dw1_avg, learning_rate)\n",
        "        w2 = update_weight_wi(w2, dw2_avg, learning_rate)\n",
        "        w3 = update_weight_wi(w3, dw3_avg, learning_rate)\n",
        "        b = update_weight_b(b, db_avg, learning_rate)\n",
        "\n",
        "        loss_avg = loss_total / N\n",
        "        losses.append(loss_avg)\n",
        "\n",
        "        if (epoch+1) % 100 == 0 or epoch == 0:\n",
        "            print(f\"Epoch {epoch+1}/{epochs}, Loss: {loss_avg}\")\n",
        "\n",
        "  return (w1, w2, w3, b, losses)"
      ],
      "metadata": {
        "id": "-7OTfXd2IrJ0"
      },
      "execution_count": 295,
      "outputs": []
    },
    {
      "cell_type": "code",
      "source": [
        "# (w1, w2, w3, b, losses) = implement_linear_regression_nsamples_with_mse(X, y)\n",
        "# print(w1, w2, w3)\n",
        "# plt.plot(losses)\n",
        "# plt.xlabel(\"#Epoch\")\n",
        "# plt.ylabel(\"MSE Loss\")\n",
        "# plt.show()"
      ],
      "metadata": {
        "id": "QmnZ4b4-ItFB"
      },
      "execution_count": 296,
      "outputs": []
    },
    {
      "cell_type": "code",
      "source": [
        "def implement_final_linear_regression(X_feature, y_output, epochs=50, lr=1e-5):\n",
        "  losses = []\n",
        "\n",
        "  weights = initialize_params()\n",
        "\n",
        "  N = len(y_output)\n",
        "\n",
        "  for epoch in range(epochs):\n",
        "    print(f\"Epoch {epoch+1}/{epochs}:\")\n",
        "    for i in range(N):\n",
        "      features_i = X_feature[i]\n",
        "      y = y_output[i]\n",
        "\n",
        "      y_hat = predict(features_i, weights)\n",
        "\n",
        "      loss = compute_loss_mse(y_hat, y)\n",
        "\n",
        "      dl_dweights = compute_gradient_wi(features_i, y_hat, y)\n",
        "\n",
        "      weights = update_weight_wi(weights, dl_dweights, lr)\n",
        "\n",
        "      losses.append(loss)\n",
        "\n",
        "    print(f\"Loss: {loss}\")\n",
        "\n",
        "  return weights, losses\n",
        "\n",
        "X, y = prepare_data(DATASET_PATH)\n",
        "W, L = implement_final_linear_regression(X, y)\n",
        "plt.plot(L[:100])\n",
        "plt.xlabel(\"#Epoch\")\n",
        "plt.ylabel(\"MSE Loss\")\n",
        "plt.show()"
      ],
      "metadata": {
        "colab": {
          "base_uri": "https://localhost:8080/",
          "height": 1000
        },
        "id": "NwdU7EcQMXAT",
        "outputId": "c8dc6858-ac96-40e9-a01f-395b1faf2a10"
      },
      "execution_count": 299,
      "outputs": [
        {
          "output_type": "stream",
          "name": "stdout",
          "text": [
            "Epoch 1/50:\n",
            "Loss: 36.85343068725858\n",
            "Epoch 2/50:\n",
            "Loss: 35.84479944503251\n",
            "Epoch 3/50:\n",
            "Loss: 34.52215130331196\n",
            "Epoch 4/50:\n",
            "Loss: 33.887435843768564\n",
            "Epoch 5/50:\n",
            "Loss: 33.581599037876586\n",
            "Epoch 6/50:\n",
            "Loss: 33.42086370418345\n",
            "Epoch 7/50:\n",
            "Loss: 33.324007435615364\n",
            "Epoch 8/50:\n",
            "Loss: 33.25533609231918\n",
            "Epoch 9/50:\n",
            "Loss: 33.19913069165906\n",
            "Epoch 10/50:\n",
            "Loss: 33.14845973632828\n",
            "Epoch 11/50:\n",
            "Loss: 33.10026477297237\n",
            "Epoch 12/50:\n",
            "Loss: 33.05319589344298\n",
            "Epoch 13/50:\n",
            "Loss: 33.00665719372922\n",
            "Epoch 14/50:\n",
            "Loss: 32.96038558092477\n",
            "Epoch 15/50:\n",
            "Loss: 32.91426487366646\n",
            "Epoch 16/50:\n",
            "Loss: 32.868243743462294\n",
            "Epoch 17/50:\n",
            "Loss: 32.822299491039665\n",
            "Epoch 18/50:\n",
            "Loss: 32.77642205557136\n",
            "Epoch 19/50:\n",
            "Loss: 32.730606955547614\n",
            "Epoch 20/50:\n",
            "Loss: 32.68485217251222\n",
            "Epoch 21/50:\n",
            "Loss: 32.63915677537927\n",
            "Epoch 22/50:\n",
            "Loss: 32.593520313133716\n",
            "Epoch 23/50:\n",
            "Loss: 32.54794254673649\n",
            "Epoch 24/50:\n",
            "Loss: 32.502423330774334\n",
            "Epoch 25/50:\n",
            "Loss: 32.456962561212514\n",
            "Epoch 26/50:\n",
            "Loss: 32.411560152330516\n",
            "Epoch 27/50:\n",
            "Loss: 32.36621602654073\n",
            "Epoch 28/50:\n",
            "Loss: 32.320930109892515\n",
            "Epoch 29/50:\n",
            "Loss: 32.275702330088585\n",
            "Epoch 30/50:\n",
            "Loss: 32.23053261560888\n",
            "Epoch 31/50:\n",
            "Loss: 32.18542089532344\n",
            "Epoch 32/50:\n",
            "Loss: 32.140367098322166\n",
            "Epoch 33/50:\n",
            "Loss: 32.09537115383855\n",
            "Epoch 34/50:\n",
            "Loss: 32.05043299121724\n",
            "Epoch 35/50:\n",
            "Loss: 32.00555253989831\n",
            "Epoch 36/50:\n",
            "Loss: 31.960729729411643\n",
            "Epoch 37/50:\n",
            "Loss: 31.91596448937335\n",
            "Epoch 38/50:\n",
            "Loss: 31.871256749484324\n",
            "Epoch 39/50:\n",
            "Loss: 31.82660643952987\n",
            "Epoch 40/50:\n",
            "Loss: 31.782013489379693\n",
            "Epoch 41/50:\n",
            "Loss: 31.737477828986382\n",
            "Epoch 42/50:\n",
            "Loss: 31.692999388387207\n",
            "Epoch 43/50:\n",
            "Loss: 31.648578097702465\n",
            "Epoch 44/50:\n",
            "Loss: 31.60421388713572\n",
            "Epoch 45/50:\n",
            "Loss: 31.55990668697413\n",
            "Epoch 46/50:\n",
            "Loss: 31.51565642758795\n",
            "Epoch 47/50:\n",
            "Loss: 31.471463039430613\n",
            "Epoch 48/50:\n",
            "Loss: 31.427326453038454\n",
            "Epoch 49/50:\n",
            "Loss: 31.38324659903084\n",
            "Epoch 50/50:\n",
            "Loss: 31.339223408109948\n"
          ]
        },
        {
          "output_type": "display_data",
          "data": {
            "text/plain": [
              "<Figure size 640x480 with 1 Axes>"
            ],
            "image/png": "[encoded data removed]"
          },
          "metadata": {}
        }
      ]
    },
    {
      "cell_type": "code",
      "source": [
        "print(L[9999])"
      ],
      "metadata": {
        "colab": {
          "base_uri": "https://localhost:8080/"
        },
        "id": "UZhPg-dxOTYs",
        "outputId": "4265b0ea-ff77-43ac-9c43-3fbe78c7cd96"
      },
      "execution_count": 300,
      "outputs": [
        {
          "output_type": "stream",
          "name": "stdout",
          "text": [
            "31.339223408109948\n"
          ]
        }
      ]
    }
  ]
}